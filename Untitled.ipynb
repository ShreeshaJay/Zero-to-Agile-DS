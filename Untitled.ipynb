{
 "cells": [
  {
   "cell_type": "code",
   "execution_count": 1,
   "metadata": {},
   "outputs": [
    {
     "data": {
      "text/plain": [
       "'/home/paperspace/Zero to Agile DS'"
      ]
     },
     "execution_count": 1,
     "metadata": {},
     "output_type": "execute_result"
    }
   ],
   "source": [
    "import os\n",
    "os.getcwd()"
   ]
  },
  {
   "cell_type": "code",
   "execution_count": 3,
   "metadata": {},
   "outputs": [
    {
     "name": "stdout",
     "output_type": "stream",
     "text": [
      "Predicting-Credit-Card-Fraud\r\n",
      "Predicting-Customer-Churn\r\n",
      "Predicting-Financial-Bankruptcy\r\n",
      "__pycache__/helper_functions_comprehensive.cpython-36.pyc\r\n",
      "helper_functions_comprehensive.py\r\n",
      "requirements.txt\r\n"
     ]
    }
   ],
   "source": [
    "!git ls-tree -r master --name-only"
   ]
  },
  {
   "cell_type": "code",
   "execution_count": 6,
   "metadata": {},
   "outputs": [
    {
     "name": "stdout",
     "output_type": "stream",
     "text": [
      "Predicting-Credit-Card-Fraud\r\n",
      "Predicting-Customer-Churn\r\n",
      "Predicting-Financial-Bankruptcy\r\n",
      "__pycache__/helper_functions_comprehensive.cpython-36.pyc\r\n",
      "helper_functions_comprehensive.py\r\n",
      "requirements.txt\r\n"
     ]
    }
   ],
   "source": [
    "!git ls-files"
   ]
  },
  {
   "cell_type": "code",
   "execution_count": null,
   "metadata": {},
   "outputs": [],
   "source": []
  }
 ],
 "metadata": {
  "kernelspec": {
   "display_name": "Python 3",
   "language": "python",
   "name": "python3"
  },
  "language_info": {
   "codemirror_mode": {
    "name": "ipython",
    "version": 3
   },
   "file_extension": ".py",
   "mimetype": "text/x-python",
   "name": "python",
   "nbconvert_exporter": "python",
   "pygments_lexer": "ipython3",
   "version": "3.6.6"
  }
 },
 "nbformat": 4,
 "nbformat_minor": 2
}
